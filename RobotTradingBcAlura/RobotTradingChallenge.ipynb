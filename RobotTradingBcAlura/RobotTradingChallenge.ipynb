{
  "cells": [
    {
      "cell_type": "markdown",
      "metadata": {
        "id": "view-in-github",
        "colab_type": "text"
      },
      "source": [
        "<a href=\"https://colab.research.google.com/github/juanmachanes/Portafolio/blob/main/RobotTradingBcAlura/RobotTradingChallenge.ipynb\" target=\"_parent\"><img src=\"https://colab.research.google.com/assets/colab-badge.svg\" alt=\"Open In Colab\"/></a>"
      ]
    },
    {
      "cell_type": "markdown",
      "metadata": {
        "id": "V2TM5LIrcuE4"
      },
      "source": [
        "# 1. Configuración del ambiente"
      ]
    },
    {
      "cell_type": "code",
      "execution_count": null,
      "metadata": {
        "id": "UVMv7I5jcFI2"
      },
      "outputs": [],
      "source": [
        "global df_bitcoin, precio_actual, tendencia, media_bitcoin,  algoritmo_decision, df_bitcoin_limpio"
      ]
    },
    {
      "cell_type": "code",
      "execution_count": null,
      "metadata": {
        "id": "qn428NFscUqD"
      },
      "outputs": [],
      "source": [
        "import pandas as pd\n",
        "import numpy as np\n",
        "import matplotlib.pyplot as mp\n",
        "algoritmo_decision = ''\n"
      ]
    },
    {
      "cell_type": "code",
      "execution_count": null,
      "metadata": {
        "colab": {
          "base_uri": "https://localhost:8080/"
        },
        "id": "lO9f75YEck4o",
        "outputId": "29fd9b9b-f147-40da-dafb-8a5787bb3d4f"
      },
      "outputs": [
        {
          "name": "stdout",
          "output_type": "stream",
          "text": [
            "Python 3.10.12\n",
            "------\n",
            "Name: pandas\n",
            "Version: 1.5.3\n",
            "------\n",
            "Name: numpy\n",
            "Version: 1.23.5\n",
            "------\n",
            "Name: matplotlib\n",
            "Version: 3.7.1\n"
          ]
        }
      ],
      "source": [
        "!python -V\n",
        "print('------')\n",
        "!pip show Pandas | grep 'Name\\|Version'\n",
        "print('------')\n",
        "!pip show Numpy | grep 'Name\\|Version'\n",
        "print('------')\n",
        "!pip show Matplotlib | grep 'Name\\|Version'"
      ]
    },
    {
      "cell_type": "markdown",
      "metadata": {
        "id": "i8fNHEiuc6nB"
      },
      "source": [
        "# 2. Extraccion\n"
      ]
    },
    {
      "cell_type": "markdown",
      "metadata": {
        "id": "qHiIKwvT1bVO"
      },
      "source": [
        "## Extraccion Datos Historicos\n",
        "Extraemos los datos historicos de los ultimos 7 dias con un intervarlo de 30 minutos del Bitcoin en Yahoo Finance"
      ]
    },
    {
      "cell_type": "code",
      "execution_count": 1,
      "metadata": {
        "id": "POeqx1CocnEJ"
      },
      "outputs": [],
      "source": [
        "import yfinance as yf\n",
        "import pandas as pd\n",
        "from datetime import datetime, timedelta\n",
        "import pytz\n",
        "\n",
        "def importar_base_bitcoin():\n",
        "  global df_bitcoin\n",
        "  # Define el símbolo del ticker para Bitcoin (BTC-USD)\n",
        "  ticker_symbol = \"BTC-USD\"\n",
        "\n",
        "  # Define la zona horaria de Buenos Aires\n",
        "  zona_horaria_buenos_aires = pytz.timezone('America/Argentina/Buenos_Aires')\n",
        "\n",
        "  # Obtiene la fecha y hora actual en la zona horaria de Buenos Aires\n",
        "  end_date = datetime.now()\n",
        "\n",
        "  # Calcula la fecha de inicio como hace 7 días\n",
        "  start_date = end_date - timedelta(days=7)\n",
        "\n",
        "\n",
        "  # Obtiene datos históricos de Yahoo Finance\n",
        "  df_bitcoin = yf.download(ticker_symbol,interval=\"5m\", start=start_date, end=end_date)\n",
        "\n",
        "  # Convierte los datos en la zona horaria de Buenos Aires\n",
        "  df_bitcoin = df_bitcoin.tz_convert(zona_horaria_buenos_aires)\n",
        "\n",
        "\n",
        "\n",
        "\n",
        "\n",
        "\n",
        "\n",
        "\n",
        "\n",
        "\n",
        "\n",
        "\n"
      ]
    },
    {
      "cell_type": "code",
      "execution_count": 2,
      "metadata": {
        "colab": {
          "base_uri": "https://localhost:8080/",
          "height": 472
        },
        "id": "ViuxasRIfG8q",
        "outputId": "1451f796-c009-49ef-9e7f-b29926c07176"
      },
      "outputs": [
        {
          "output_type": "stream",
          "name": "stdout",
          "text": [
            "\r[*********************100%%**********************]  1 of 1 completed\n"
          ]
        },
        {
          "output_type": "execute_result",
          "data": {
            "text/plain": [
              "                                   Open          High           Low  \\\n",
              "Datetime                                                              \n",
              "2023-10-29 14:10:00-03:00  34396.890625  34406.980469  34396.890625   \n",
              "2023-10-29 14:15:00-03:00  34409.582031  34463.136719  34409.582031   \n",
              "2023-10-29 14:20:00-03:00  34446.226562  34446.675781  34433.394531   \n",
              "2023-10-29 14:25:00-03:00  34447.929688  34461.152344  34447.929688   \n",
              "2023-10-29 14:30:00-03:00  34461.296875  34483.503906  34460.066406   \n",
              "...                                 ...           ...           ...   \n",
              "2023-11-05 13:50:00-03:00  34977.593750  34990.343750  34974.988281   \n",
              "2023-11-05 13:55:00-03:00  34982.968750  34983.988281  34977.289062   \n",
              "2023-11-05 14:00:00-03:00  34983.378906  34993.101562  34980.992188   \n",
              "2023-11-05 14:05:00-03:00  34989.667969  35014.707031  34989.667969   \n",
              "2023-11-05 14:10:00-03:00  35062.406250  35165.968750  35062.406250   \n",
              "\n",
              "                                  Close     Adj Close    Volume  \n",
              "Datetime                                                         \n",
              "2023-10-29 14:10:00-03:00  34406.089844  34406.089844         0  \n",
              "2023-10-29 14:15:00-03:00  34463.136719  34463.136719  24214528  \n",
              "2023-10-29 14:20:00-03:00  34446.675781  34446.675781   5182464  \n",
              "2023-10-29 14:25:00-03:00  34461.152344  34461.152344  27614208  \n",
              "2023-10-29 14:30:00-03:00  34483.503906  34483.503906    123904  \n",
              "...                                 ...           ...       ...  \n",
              "2023-11-05 13:50:00-03:00  34990.343750  34990.343750   2417664  \n",
              "2023-11-05 13:55:00-03:00  34979.707031  34979.707031  11287552  \n",
              "2023-11-05 14:00:00-03:00  34993.101562  34993.101562   2902016  \n",
              "2023-11-05 14:05:00-03:00  35014.707031  35014.707031   6567936  \n",
              "2023-11-05 14:10:00-03:00  35165.968750  35165.968750  26816512  \n",
              "\n",
              "[1917 rows x 6 columns]"
            ],
            "text/html": [
              "\n",
              "  <div id=\"df-98e498a6-0e1d-45bf-a13b-b97ff70db7e4\" class=\"colab-df-container\">\n",
              "    <div>\n",
              "<style scoped>\n",
              "    .dataframe tbody tr th:only-of-type {\n",
              "        vertical-align: middle;\n",
              "    }\n",
              "\n",
              "    .dataframe tbody tr th {\n",
              "        vertical-align: top;\n",
              "    }\n",
              "\n",
              "    .dataframe thead th {\n",
              "        text-align: right;\n",
              "    }\n",
              "</style>\n",
              "<table border=\"1\" class=\"dataframe\">\n",
              "  <thead>\n",
              "    <tr style=\"text-align: right;\">\n",
              "      <th></th>\n",
              "      <th>Open</th>\n",
              "      <th>High</th>\n",
              "      <th>Low</th>\n",
              "      <th>Close</th>\n",
              "      <th>Adj Close</th>\n",
              "      <th>Volume</th>\n",
              "    </tr>\n",
              "    <tr>\n",
              "      <th>Datetime</th>\n",
              "      <th></th>\n",
              "      <th></th>\n",
              "      <th></th>\n",
              "      <th></th>\n",
              "      <th></th>\n",
              "      <th></th>\n",
              "    </tr>\n",
              "  </thead>\n",
              "  <tbody>\n",
              "    <tr>\n",
              "      <th>2023-10-29 14:10:00-03:00</th>\n",
              "      <td>34396.890625</td>\n",
              "      <td>34406.980469</td>\n",
              "      <td>34396.890625</td>\n",
              "      <td>34406.089844</td>\n",
              "      <td>34406.089844</td>\n",
              "      <td>0</td>\n",
              "    </tr>\n",
              "    <tr>\n",
              "      <th>2023-10-29 14:15:00-03:00</th>\n",
              "      <td>34409.582031</td>\n",
              "      <td>34463.136719</td>\n",
              "      <td>34409.582031</td>\n",
              "      <td>34463.136719</td>\n",
              "      <td>34463.136719</td>\n",
              "      <td>24214528</td>\n",
              "    </tr>\n",
              "    <tr>\n",
              "      <th>2023-10-29 14:20:00-03:00</th>\n",
              "      <td>34446.226562</td>\n",
              "      <td>34446.675781</td>\n",
              "      <td>34433.394531</td>\n",
              "      <td>34446.675781</td>\n",
              "      <td>34446.675781</td>\n",
              "      <td>5182464</td>\n",
              "    </tr>\n",
              "    <tr>\n",
              "      <th>2023-10-29 14:25:00-03:00</th>\n",
              "      <td>34447.929688</td>\n",
              "      <td>34461.152344</td>\n",
              "      <td>34447.929688</td>\n",
              "      <td>34461.152344</td>\n",
              "      <td>34461.152344</td>\n",
              "      <td>27614208</td>\n",
              "    </tr>\n",
              "    <tr>\n",
              "      <th>2023-10-29 14:30:00-03:00</th>\n",
              "      <td>34461.296875</td>\n",
              "      <td>34483.503906</td>\n",
              "      <td>34460.066406</td>\n",
              "      <td>34483.503906</td>\n",
              "      <td>34483.503906</td>\n",
              "      <td>123904</td>\n",
              "    </tr>\n",
              "    <tr>\n",
              "      <th>...</th>\n",
              "      <td>...</td>\n",
              "      <td>...</td>\n",
              "      <td>...</td>\n",
              "      <td>...</td>\n",
              "      <td>...</td>\n",
              "      <td>...</td>\n",
              "    </tr>\n",
              "    <tr>\n",
              "      <th>2023-11-05 13:50:00-03:00</th>\n",
              "      <td>34977.593750</td>\n",
              "      <td>34990.343750</td>\n",
              "      <td>34974.988281</td>\n",
              "      <td>34990.343750</td>\n",
              "      <td>34990.343750</td>\n",
              "      <td>2417664</td>\n",
              "    </tr>\n",
              "    <tr>\n",
              "      <th>2023-11-05 13:55:00-03:00</th>\n",
              "      <td>34982.968750</td>\n",
              "      <td>34983.988281</td>\n",
              "      <td>34977.289062</td>\n",
              "      <td>34979.707031</td>\n",
              "      <td>34979.707031</td>\n",
              "      <td>11287552</td>\n",
              "    </tr>\n",
              "    <tr>\n",
              "      <th>2023-11-05 14:00:00-03:00</th>\n",
              "      <td>34983.378906</td>\n",
              "      <td>34993.101562</td>\n",
              "      <td>34980.992188</td>\n",
              "      <td>34993.101562</td>\n",
              "      <td>34993.101562</td>\n",
              "      <td>2902016</td>\n",
              "    </tr>\n",
              "    <tr>\n",
              "      <th>2023-11-05 14:05:00-03:00</th>\n",
              "      <td>34989.667969</td>\n",
              "      <td>35014.707031</td>\n",
              "      <td>34989.667969</td>\n",
              "      <td>35014.707031</td>\n",
              "      <td>35014.707031</td>\n",
              "      <td>6567936</td>\n",
              "    </tr>\n",
              "    <tr>\n",
              "      <th>2023-11-05 14:10:00-03:00</th>\n",
              "      <td>35062.406250</td>\n",
              "      <td>35165.968750</td>\n",
              "      <td>35062.406250</td>\n",
              "      <td>35165.968750</td>\n",
              "      <td>35165.968750</td>\n",
              "      <td>26816512</td>\n",
              "    </tr>\n",
              "  </tbody>\n",
              "</table>\n",
              "<p>1917 rows × 6 columns</p>\n",
              "</div>\n",
              "    <div class=\"colab-df-buttons\">\n",
              "\n",
              "  <div class=\"colab-df-container\">\n",
              "    <button class=\"colab-df-convert\" onclick=\"convertToInteractive('df-98e498a6-0e1d-45bf-a13b-b97ff70db7e4')\"\n",
              "            title=\"Convert this dataframe to an interactive table.\"\n",
              "            style=\"display:none;\">\n",
              "\n",
              "  <svg xmlns=\"http://www.w3.org/2000/svg\" height=\"24px\" viewBox=\"0 -960 960 960\">\n",
              "    <path d=\"M120-120v-720h720v720H120Zm60-500h600v-160H180v160Zm220 220h160v-160H400v160Zm0 220h160v-160H400v160ZM180-400h160v-160H180v160Zm440 0h160v-160H620v160ZM180-180h160v-160H180v160Zm440 0h160v-160H620v160Z\"/>\n",
              "  </svg>\n",
              "    </button>\n",
              "\n",
              "  <style>\n",
              "    .colab-df-container {\n",
              "      display:flex;\n",
              "      gap: 12px;\n",
              "    }\n",
              "\n",
              "    .colab-df-convert {\n",
              "      background-color: #E8F0FE;\n",
              "      border: none;\n",
              "      border-radius: 50%;\n",
              "      cursor: pointer;\n",
              "      display: none;\n",
              "      fill: #1967D2;\n",
              "      height: 32px;\n",
              "      padding: 0 0 0 0;\n",
              "      width: 32px;\n",
              "    }\n",
              "\n",
              "    .colab-df-convert:hover {\n",
              "      background-color: #E2EBFA;\n",
              "      box-shadow: 0px 1px 2px rgba(60, 64, 67, 0.3), 0px 1px 3px 1px rgba(60, 64, 67, 0.15);\n",
              "      fill: #174EA6;\n",
              "    }\n",
              "\n",
              "    .colab-df-buttons div {\n",
              "      margin-bottom: 4px;\n",
              "    }\n",
              "\n",
              "    [theme=dark] .colab-df-convert {\n",
              "      background-color: #3B4455;\n",
              "      fill: #D2E3FC;\n",
              "    }\n",
              "\n",
              "    [theme=dark] .colab-df-convert:hover {\n",
              "      background-color: #434B5C;\n",
              "      box-shadow: 0px 1px 3px 1px rgba(0, 0, 0, 0.15);\n",
              "      filter: drop-shadow(0px 1px 2px rgba(0, 0, 0, 0.3));\n",
              "      fill: #FFFFFF;\n",
              "    }\n",
              "  </style>\n",
              "\n",
              "    <script>\n",
              "      const buttonEl =\n",
              "        document.querySelector('#df-98e498a6-0e1d-45bf-a13b-b97ff70db7e4 button.colab-df-convert');\n",
              "      buttonEl.style.display =\n",
              "        google.colab.kernel.accessAllowed ? 'block' : 'none';\n",
              "\n",
              "      async function convertToInteractive(key) {\n",
              "        const element = document.querySelector('#df-98e498a6-0e1d-45bf-a13b-b97ff70db7e4');\n",
              "        const dataTable =\n",
              "          await google.colab.kernel.invokeFunction('convertToInteractive',\n",
              "                                                    [key], {});\n",
              "        if (!dataTable) return;\n",
              "\n",
              "        const docLinkHtml = 'Like what you see? Visit the ' +\n",
              "          '<a target=\"_blank\" href=https://colab.research.google.com/notebooks/data_table.ipynb>data table notebook</a>'\n",
              "          + ' to learn more about interactive tables.';\n",
              "        element.innerHTML = '';\n",
              "        dataTable['output_type'] = 'display_data';\n",
              "        await google.colab.output.renderOutput(dataTable, element);\n",
              "        const docLink = document.createElement('div');\n",
              "        docLink.innerHTML = docLinkHtml;\n",
              "        element.appendChild(docLink);\n",
              "      }\n",
              "    </script>\n",
              "  </div>\n",
              "\n",
              "\n",
              "<div id=\"df-4bc24d84-d666-4868-9e18-70c2503a467b\">\n",
              "  <button class=\"colab-df-quickchart\" onclick=\"quickchart('df-4bc24d84-d666-4868-9e18-70c2503a467b')\"\n",
              "            title=\"Suggest charts.\"\n",
              "            style=\"display:none;\">\n",
              "\n",
              "<svg xmlns=\"http://www.w3.org/2000/svg\" height=\"24px\"viewBox=\"0 0 24 24\"\n",
              "     width=\"24px\">\n",
              "    <g>\n",
              "        <path d=\"M19 3H5c-1.1 0-2 .9-2 2v14c0 1.1.9 2 2 2h14c1.1 0 2-.9 2-2V5c0-1.1-.9-2-2-2zM9 17H7v-7h2v7zm4 0h-2V7h2v10zm4 0h-2v-4h2v4z\"/>\n",
              "    </g>\n",
              "</svg>\n",
              "  </button>\n",
              "\n",
              "<style>\n",
              "  .colab-df-quickchart {\n",
              "      --bg-color: #E8F0FE;\n",
              "      --fill-color: #1967D2;\n",
              "      --hover-bg-color: #E2EBFA;\n",
              "      --hover-fill-color: #174EA6;\n",
              "      --disabled-fill-color: #AAA;\n",
              "      --disabled-bg-color: #DDD;\n",
              "  }\n",
              "\n",
              "  [theme=dark] .colab-df-quickchart {\n",
              "      --bg-color: #3B4455;\n",
              "      --fill-color: #D2E3FC;\n",
              "      --hover-bg-color: #434B5C;\n",
              "      --hover-fill-color: #FFFFFF;\n",
              "      --disabled-bg-color: #3B4455;\n",
              "      --disabled-fill-color: #666;\n",
              "  }\n",
              "\n",
              "  .colab-df-quickchart {\n",
              "    background-color: var(--bg-color);\n",
              "    border: none;\n",
              "    border-radius: 50%;\n",
              "    cursor: pointer;\n",
              "    display: none;\n",
              "    fill: var(--fill-color);\n",
              "    height: 32px;\n",
              "    padding: 0;\n",
              "    width: 32px;\n",
              "  }\n",
              "\n",
              "  .colab-df-quickchart:hover {\n",
              "    background-color: var(--hover-bg-color);\n",
              "    box-shadow: 0 1px 2px rgba(60, 64, 67, 0.3), 0 1px 3px 1px rgba(60, 64, 67, 0.15);\n",
              "    fill: var(--button-hover-fill-color);\n",
              "  }\n",
              "\n",
              "  .colab-df-quickchart-complete:disabled,\n",
              "  .colab-df-quickchart-complete:disabled:hover {\n",
              "    background-color: var(--disabled-bg-color);\n",
              "    fill: var(--disabled-fill-color);\n",
              "    box-shadow: none;\n",
              "  }\n",
              "\n",
              "  .colab-df-spinner {\n",
              "    border: 2px solid var(--fill-color);\n",
              "    border-color: transparent;\n",
              "    border-bottom-color: var(--fill-color);\n",
              "    animation:\n",
              "      spin 1s steps(1) infinite;\n",
              "  }\n",
              "\n",
              "  @keyframes spin {\n",
              "    0% {\n",
              "      border-color: transparent;\n",
              "      border-bottom-color: var(--fill-color);\n",
              "      border-left-color: var(--fill-color);\n",
              "    }\n",
              "    20% {\n",
              "      border-color: transparent;\n",
              "      border-left-color: var(--fill-color);\n",
              "      border-top-color: var(--fill-color);\n",
              "    }\n",
              "    30% {\n",
              "      border-color: transparent;\n",
              "      border-left-color: var(--fill-color);\n",
              "      border-top-color: var(--fill-color);\n",
              "      border-right-color: var(--fill-color);\n",
              "    }\n",
              "    40% {\n",
              "      border-color: transparent;\n",
              "      border-right-color: var(--fill-color);\n",
              "      border-top-color: var(--fill-color);\n",
              "    }\n",
              "    60% {\n",
              "      border-color: transparent;\n",
              "      border-right-color: var(--fill-color);\n",
              "    }\n",
              "    80% {\n",
              "      border-color: transparent;\n",
              "      border-right-color: var(--fill-color);\n",
              "      border-bottom-color: var(--fill-color);\n",
              "    }\n",
              "    90% {\n",
              "      border-color: transparent;\n",
              "      border-bottom-color: var(--fill-color);\n",
              "    }\n",
              "  }\n",
              "</style>\n",
              "\n",
              "  <script>\n",
              "    async function quickchart(key) {\n",
              "      const quickchartButtonEl =\n",
              "        document.querySelector('#' + key + ' button');\n",
              "      quickchartButtonEl.disabled = true;  // To prevent multiple clicks.\n",
              "      quickchartButtonEl.classList.add('colab-df-spinner');\n",
              "      try {\n",
              "        const charts = await google.colab.kernel.invokeFunction(\n",
              "            'suggestCharts', [key], {});\n",
              "      } catch (error) {\n",
              "        console.error('Error during call to suggestCharts:', error);\n",
              "      }\n",
              "      quickchartButtonEl.classList.remove('colab-df-spinner');\n",
              "      quickchartButtonEl.classList.add('colab-df-quickchart-complete');\n",
              "    }\n",
              "    (() => {\n",
              "      let quickchartButtonEl =\n",
              "        document.querySelector('#df-4bc24d84-d666-4868-9e18-70c2503a467b button');\n",
              "      quickchartButtonEl.style.display =\n",
              "        google.colab.kernel.accessAllowed ? 'block' : 'none';\n",
              "    })();\n",
              "  </script>\n",
              "</div>\n",
              "    </div>\n",
              "  </div>\n"
            ]
          },
          "metadata": {},
          "execution_count": 2
        }
      ],
      "source": [
        "importar_base_bitcoin()\n",
        "df_bitcoin"
      ]
    },
    {
      "cell_type": "markdown",
      "metadata": {
        "id": "nu0hDlLb1kmW"
      },
      "source": [
        "## Extraccion Valor Bitcoin Actual\n",
        "Extraermos el valor y la tendencia actual del Bitcoin utilizando DataScraping en la pagina CoinMarket"
      ]
    },
    {
      "cell_type": "code",
      "execution_count": null,
      "metadata": {
        "colab": {
          "base_uri": "https://localhost:8080/"
        },
        "id": "fG4kUNzDfbxZ",
        "outputId": "080f7883-6158-47ba-fd38-b0ba25e2ac5c"
      },
      "outputs": [
        {
          "name": "stdout",
          "output_type": "stream",
          "text": [
            "30927.88 alta\n"
          ]
        }
      ],
      "source": [
        "from bs4 import BeautifulSoup\n",
        "import requests\n",
        "\n",
        "\n",
        "def extrer_tendencias():\n",
        "  global tendencia,precio_actual\n",
        "  headers = {'User-Agent':'Mozilla/5.0 (Windows NT 10.0; Win64; x64; rv:109.0) Gecko/20100101 Firefox/118.0'}\n",
        "  url = \"https://coinmarketcap.com/coins/\"\n",
        "  respuesta = requests.get(url,headers=headers)\n",
        "  data = respuesta.text\n",
        "  s=BeautifulSoup(data,features=\"lxml\")\n",
        "  precio_actual = float(s.find('div',{'class':'sc-a0353bbc-0'}).get_text().replace(',','').replace('$',''))\n",
        "  tend = str(s.find('span',{'class':'sc-d55c02b-0'})).split('icon-Caret-')[1].split('\"')[0]\n",
        "\n",
        "  if tend == 'up':\n",
        "    tendencia = \"alta\"\n",
        "  elif tend == 'down':\n",
        "    tendencia = \"baja\"\n",
        "\n",
        "\n",
        "extrer_tendencias()\n",
        "print(precio_actual,tendencia)\n"
      ]
    },
    {
      "cell_type": "markdown",
      "metadata": {
        "id": "5s3ZyM0szri7"
      },
      "source": [
        "# 3. Limpieza de Datos\n",
        "Cabe aclarar que pudmos ver que no hay:\n",
        "- valores nulos en la columna Close\n",
        "- no hay valores con indice duplicado\n",
        "\n",
        "##### Pero igualmente los tratamos"
      ]
    },
    {
      "cell_type": "markdown",
      "metadata": {
        "id": "DJW1JuGc1qtc"
      },
      "source": [
        "## Copia del DF original"
      ]
    },
    {
      "cell_type": "code",
      "execution_count": null,
      "metadata": {
        "colab": {
          "base_uri": "https://localhost:8080/"
        },
        "id": "inZ4fGbpjQwr",
        "outputId": "41e23a46-ab17-457d-a833-a9fe6049956b"
      },
      "outputs": [
        {
          "name": "stdout",
          "output_type": "stream",
          "text": [
            "<class 'pandas.core.frame.DataFrame'>\n",
            "DatetimeIndex: 2015 entries, 2023-10-16 13:30:00-03:00 to 2023-10-23 13:25:00-03:00\n",
            "Data columns (total 6 columns):\n",
            " #   Column     Non-Null Count  Dtype  \n",
            "---  ------     --------------  -----  \n",
            " 0   Open       2015 non-null   float64\n",
            " 1   High       2015 non-null   float64\n",
            " 2   Low        2015 non-null   float64\n",
            " 3   Close      2015 non-null   float64\n",
            " 4   Adj Close  2015 non-null   float64\n",
            " 5   Volume     2015 non-null   int64  \n",
            "dtypes: float64(5), int64(1)\n",
            "memory usage: 110.2 KB\n"
          ]
        }
      ],
      "source": [
        "\n",
        "  df_bitcoin_limpio = df_bitcoin.copy()\n",
        "  df_bitcoin_limpio.info()\n",
        "\n"
      ]
    },
    {
      "cell_type": "markdown",
      "metadata": {
        "id": "B23Qaca61z_V"
      },
      "source": [
        "## Eliminamos los valores que tienen Valor Volume menor a cero\n",
        "Obteniendo el valor min y viendo que no es 0 podemos decir que elimino los menores o iguales a 0"
      ]
    },
    {
      "cell_type": "code",
      "execution_count": null,
      "metadata": {
        "colab": {
          "base_uri": "https://localhost:8080/"
        },
        "id": "r0JuN00JtGY6",
        "outputId": "c7729de0-d97e-4675-fcf9-e4fef66a2a3e"
      },
      "outputs": [
        {
          "data": {
            "text/plain": [
              "1024"
            ]
          },
          "execution_count": 8,
          "metadata": {},
          "output_type": "execute_result"
        }
      ],
      "source": [
        "seleccion = df_bitcoin_limpio['Volume']>0\n",
        "df_bitcoin_limpio = df_bitcoin_limpio[seleccion]\n",
        "df_bitcoin_limpio\n",
        "df_bitcoin_limpio['Volume'].min()"
      ]
    },
    {
      "cell_type": "markdown",
      "metadata": {
        "id": "dCYLcoJ018p2"
      },
      "source": [
        "## Eliminamos los valores que tienen Null en Close"
      ]
    },
    {
      "cell_type": "code",
      "execution_count": null,
      "metadata": {
        "colab": {
          "base_uri": "https://localhost:8080/",
          "height": 455
        },
        "id": "Xm-EZvKovfPu",
        "outputId": "e7203b9c-a9ed-4043-ce01-fb1a0d455132"
      },
      "outputs": [
        {
          "data": {
            "text/html": [
              "\n",
              "  <div id=\"df-9fb2b90b-f1a0-45a6-a307-85656c240b7d\" class=\"colab-df-container\">\n",
              "    <div>\n",
              "<style scoped>\n",
              "    .dataframe tbody tr th:only-of-type {\n",
              "        vertical-align: middle;\n",
              "    }\n",
              "\n",
              "    .dataframe tbody tr th {\n",
              "        vertical-align: top;\n",
              "    }\n",
              "\n",
              "    .dataframe thead th {\n",
              "        text-align: right;\n",
              "    }\n",
              "</style>\n",
              "<table border=\"1\" class=\"dataframe\">\n",
              "  <thead>\n",
              "    <tr style=\"text-align: right;\">\n",
              "      <th></th>\n",
              "      <th>Open</th>\n",
              "      <th>High</th>\n",
              "      <th>Low</th>\n",
              "      <th>Close</th>\n",
              "      <th>Adj Close</th>\n",
              "      <th>Volume</th>\n",
              "    </tr>\n",
              "    <tr>\n",
              "      <th>Datetime</th>\n",
              "      <th></th>\n",
              "      <th></th>\n",
              "      <th></th>\n",
              "      <th></th>\n",
              "      <th></th>\n",
              "      <th></th>\n",
              "    </tr>\n",
              "  </thead>\n",
              "  <tbody>\n",
              "    <tr>\n",
              "      <th>2023-10-16 13:35:00-03:00</th>\n",
              "      <td>28093.830078</td>\n",
              "      <td>28101.746094</td>\n",
              "      <td>28093.830078</td>\n",
              "      <td>28101.746094</td>\n",
              "      <td>28101.746094</td>\n",
              "      <td>154509312</td>\n",
              "    </tr>\n",
              "    <tr>\n",
              "      <th>2023-10-16 13:40:00-03:00</th>\n",
              "      <td>28144.013672</td>\n",
              "      <td>28144.013672</td>\n",
              "      <td>28094.859375</td>\n",
              "      <td>28094.859375</td>\n",
              "      <td>28094.859375</td>\n",
              "      <td>39122944</td>\n",
              "    </tr>\n",
              "    <tr>\n",
              "      <th>2023-10-16 13:45:00-03:00</th>\n",
              "      <td>28102.837891</td>\n",
              "      <td>28121.666016</td>\n",
              "      <td>28102.837891</td>\n",
              "      <td>28121.666016</td>\n",
              "      <td>28121.666016</td>\n",
              "      <td>14596096</td>\n",
              "    </tr>\n",
              "    <tr>\n",
              "      <th>2023-10-16 13:50:00-03:00</th>\n",
              "      <td>28121.666016</td>\n",
              "      <td>28134.105469</td>\n",
              "      <td>28116.107422</td>\n",
              "      <td>28132.490234</td>\n",
              "      <td>28132.490234</td>\n",
              "      <td>25473024</td>\n",
              "    </tr>\n",
              "    <tr>\n",
              "      <th>2023-10-16 13:55:00-03:00</th>\n",
              "      <td>28132.490234</td>\n",
              "      <td>28132.490234</td>\n",
              "      <td>28091.921875</td>\n",
              "      <td>28097.859375</td>\n",
              "      <td>28097.859375</td>\n",
              "      <td>23310336</td>\n",
              "    </tr>\n",
              "    <tr>\n",
              "      <th>...</th>\n",
              "      <td>...</td>\n",
              "      <td>...</td>\n",
              "      <td>...</td>\n",
              "      <td>...</td>\n",
              "      <td>...</td>\n",
              "      <td>...</td>\n",
              "    </tr>\n",
              "    <tr>\n",
              "      <th>2023-10-23 13:05:00-03:00</th>\n",
              "      <td>30879.093750</td>\n",
              "      <td>30962.740234</td>\n",
              "      <td>30879.093750</td>\n",
              "      <td>30962.740234</td>\n",
              "      <td>30962.740234</td>\n",
              "      <td>50841600</td>\n",
              "    </tr>\n",
              "    <tr>\n",
              "      <th>2023-10-23 13:10:00-03:00</th>\n",
              "      <td>30965.488281</td>\n",
              "      <td>30976.443359</td>\n",
              "      <td>30930.960938</td>\n",
              "      <td>30930.960938</td>\n",
              "      <td>30930.960938</td>\n",
              "      <td>93519872</td>\n",
              "    </tr>\n",
              "    <tr>\n",
              "      <th>2023-10-23 13:15:00-03:00</th>\n",
              "      <td>30921.050781</td>\n",
              "      <td>30985.527344</td>\n",
              "      <td>30921.050781</td>\n",
              "      <td>30985.527344</td>\n",
              "      <td>30985.527344</td>\n",
              "      <td>40785920</td>\n",
              "    </tr>\n",
              "    <tr>\n",
              "      <th>2023-10-23 13:20:00-03:00</th>\n",
              "      <td>30989.253906</td>\n",
              "      <td>30997.236328</td>\n",
              "      <td>30910.515625</td>\n",
              "      <td>30910.515625</td>\n",
              "      <td>30910.515625</td>\n",
              "      <td>73115648</td>\n",
              "    </tr>\n",
              "    <tr>\n",
              "      <th>2023-10-23 13:25:00-03:00</th>\n",
              "      <td>30933.943359</td>\n",
              "      <td>30933.943359</td>\n",
              "      <td>30859.402344</td>\n",
              "      <td>30895.933594</td>\n",
              "      <td>30895.933594</td>\n",
              "      <td>70453248</td>\n",
              "    </tr>\n",
              "  </tbody>\n",
              "</table>\n",
              "<p>1059 rows × 6 columns</p>\n",
              "</div>\n",
              "    <div class=\"colab-df-buttons\">\n",
              "\n",
              "  <div class=\"colab-df-container\">\n",
              "    <button class=\"colab-df-convert\" onclick=\"convertToInteractive('df-9fb2b90b-f1a0-45a6-a307-85656c240b7d')\"\n",
              "            title=\"Convert this dataframe to an interactive table.\"\n",
              "            style=\"display:none;\">\n",
              "\n",
              "  <svg xmlns=\"http://www.w3.org/2000/svg\" height=\"24px\" viewBox=\"0 -960 960 960\">\n",
              "    <path d=\"M120-120v-720h720v720H120Zm60-500h600v-160H180v160Zm220 220h160v-160H400v160Zm0 220h160v-160H400v160ZM180-400h160v-160H180v160Zm440 0h160v-160H620v160ZM180-180h160v-160H180v160Zm440 0h160v-160H620v160Z\"/>\n",
              "  </svg>\n",
              "    </button>\n",
              "\n",
              "  <style>\n",
              "    .colab-df-container {\n",
              "      display:flex;\n",
              "      gap: 12px;\n",
              "    }\n",
              "\n",
              "    .colab-df-convert {\n",
              "      background-color: #E8F0FE;\n",
              "      border: none;\n",
              "      border-radius: 50%;\n",
              "      cursor: pointer;\n",
              "      display: none;\n",
              "      fill: #1967D2;\n",
              "      height: 32px;\n",
              "      padding: 0 0 0 0;\n",
              "      width: 32px;\n",
              "    }\n",
              "\n",
              "    .colab-df-convert:hover {\n",
              "      background-color: #E2EBFA;\n",
              "      box-shadow: 0px 1px 2px rgba(60, 64, 67, 0.3), 0px 1px 3px 1px rgba(60, 64, 67, 0.15);\n",
              "      fill: #174EA6;\n",
              "    }\n",
              "\n",
              "    .colab-df-buttons div {\n",
              "      margin-bottom: 4px;\n",
              "    }\n",
              "\n",
              "    [theme=dark] .colab-df-convert {\n",
              "      background-color: #3B4455;\n",
              "      fill: #D2E3FC;\n",
              "    }\n",
              "\n",
              "    [theme=dark] .colab-df-convert:hover {\n",
              "      background-color: #434B5C;\n",
              "      box-shadow: 0px 1px 3px 1px rgba(0, 0, 0, 0.15);\n",
              "      filter: drop-shadow(0px 1px 2px rgba(0, 0, 0, 0.3));\n",
              "      fill: #FFFFFF;\n",
              "    }\n",
              "  </style>\n",
              "\n",
              "    <script>\n",
              "      const buttonEl =\n",
              "        document.querySelector('#df-9fb2b90b-f1a0-45a6-a307-85656c240b7d button.colab-df-convert');\n",
              "      buttonEl.style.display =\n",
              "        google.colab.kernel.accessAllowed ? 'block' : 'none';\n",
              "\n",
              "      async function convertToInteractive(key) {\n",
              "        const element = document.querySelector('#df-9fb2b90b-f1a0-45a6-a307-85656c240b7d');\n",
              "        const dataTable =\n",
              "          await google.colab.kernel.invokeFunction('convertToInteractive',\n",
              "                                                    [key], {});\n",
              "        if (!dataTable) return;\n",
              "\n",
              "        const docLinkHtml = 'Like what you see? Visit the ' +\n",
              "          '<a target=\"_blank\" href=https://colab.research.google.com/notebooks/data_table.ipynb>data table notebook</a>'\n",
              "          + ' to learn more about interactive tables.';\n",
              "        element.innerHTML = '';\n",
              "        dataTable['output_type'] = 'display_data';\n",
              "        await google.colab.output.renderOutput(dataTable, element);\n",
              "        const docLink = document.createElement('div');\n",
              "        docLink.innerHTML = docLinkHtml;\n",
              "        element.appendChild(docLink);\n",
              "      }\n",
              "    </script>\n",
              "  </div>\n",
              "\n",
              "\n",
              "<div id=\"df-ae9ad910-f230-4b31-817c-e7d1ebc8381e\">\n",
              "  <button class=\"colab-df-quickchart\" onclick=\"quickchart('df-ae9ad910-f230-4b31-817c-e7d1ebc8381e')\"\n",
              "            title=\"Suggest charts.\"\n",
              "            style=\"display:none;\">\n",
              "\n",
              "<svg xmlns=\"http://www.w3.org/2000/svg\" height=\"24px\"viewBox=\"0 0 24 24\"\n",
              "     width=\"24px\">\n",
              "    <g>\n",
              "        <path d=\"M19 3H5c-1.1 0-2 .9-2 2v14c0 1.1.9 2 2 2h14c1.1 0 2-.9 2-2V5c0-1.1-.9-2-2-2zM9 17H7v-7h2v7zm4 0h-2V7h2v10zm4 0h-2v-4h2v4z\"/>\n",
              "    </g>\n",
              "</svg>\n",
              "  </button>\n",
              "\n",
              "<style>\n",
              "  .colab-df-quickchart {\n",
              "      --bg-color: #E8F0FE;\n",
              "      --fill-color: #1967D2;\n",
              "      --hover-bg-color: #E2EBFA;\n",
              "      --hover-fill-color: #174EA6;\n",
              "      --disabled-fill-color: #AAA;\n",
              "      --disabled-bg-color: #DDD;\n",
              "  }\n",
              "\n",
              "  [theme=dark] .colab-df-quickchart {\n",
              "      --bg-color: #3B4455;\n",
              "      --fill-color: #D2E3FC;\n",
              "      --hover-bg-color: #434B5C;\n",
              "      --hover-fill-color: #FFFFFF;\n",
              "      --disabled-bg-color: #3B4455;\n",
              "      --disabled-fill-color: #666;\n",
              "  }\n",
              "\n",
              "  .colab-df-quickchart {\n",
              "    background-color: var(--bg-color);\n",
              "    border: none;\n",
              "    border-radius: 50%;\n",
              "    cursor: pointer;\n",
              "    display: none;\n",
              "    fill: var(--fill-color);\n",
              "    height: 32px;\n",
              "    padding: 0;\n",
              "    width: 32px;\n",
              "  }\n",
              "\n",
              "  .colab-df-quickchart:hover {\n",
              "    background-color: var(--hover-bg-color);\n",
              "    box-shadow: 0 1px 2px rgba(60, 64, 67, 0.3), 0 1px 3px 1px rgba(60, 64, 67, 0.15);\n",
              "    fill: var(--button-hover-fill-color);\n",
              "  }\n",
              "\n",
              "  .colab-df-quickchart-complete:disabled,\n",
              "  .colab-df-quickchart-complete:disabled:hover {\n",
              "    background-color: var(--disabled-bg-color);\n",
              "    fill: var(--disabled-fill-color);\n",
              "    box-shadow: none;\n",
              "  }\n",
              "\n",
              "  .colab-df-spinner {\n",
              "    border: 2px solid var(--fill-color);\n",
              "    border-color: transparent;\n",
              "    border-bottom-color: var(--fill-color);\n",
              "    animation:\n",
              "      spin 1s steps(1) infinite;\n",
              "  }\n",
              "\n",
              "  @keyframes spin {\n",
              "    0% {\n",
              "      border-color: transparent;\n",
              "      border-bottom-color: var(--fill-color);\n",
              "      border-left-color: var(--fill-color);\n",
              "    }\n",
              "    20% {\n",
              "      border-color: transparent;\n",
              "      border-left-color: var(--fill-color);\n",
              "      border-top-color: var(--fill-color);\n",
              "    }\n",
              "    30% {\n",
              "      border-color: transparent;\n",
              "      border-left-color: var(--fill-color);\n",
              "      border-top-color: var(--fill-color);\n",
              "      border-right-color: var(--fill-color);\n",
              "    }\n",
              "    40% {\n",
              "      border-color: transparent;\n",
              "      border-right-color: var(--fill-color);\n",
              "      border-top-color: var(--fill-color);\n",
              "    }\n",
              "    60% {\n",
              "      border-color: transparent;\n",
              "      border-right-color: var(--fill-color);\n",
              "    }\n",
              "    80% {\n",
              "      border-color: transparent;\n",
              "      border-right-color: var(--fill-color);\n",
              "      border-bottom-color: var(--fill-color);\n",
              "    }\n",
              "    90% {\n",
              "      border-color: transparent;\n",
              "      border-bottom-color: var(--fill-color);\n",
              "    }\n",
              "  }\n",
              "</style>\n",
              "\n",
              "  <script>\n",
              "    async function quickchart(key) {\n",
              "      const quickchartButtonEl =\n",
              "        document.querySelector('#' + key + ' button');\n",
              "      quickchartButtonEl.disabled = true;  // To prevent multiple clicks.\n",
              "      quickchartButtonEl.classList.add('colab-df-spinner');\n",
              "      try {\n",
              "        const charts = await google.colab.kernel.invokeFunction(\n",
              "            'suggestCharts', [key], {});\n",
              "      } catch (error) {\n",
              "        console.error('Error during call to suggestCharts:', error);\n",
              "      }\n",
              "      quickchartButtonEl.classList.remove('colab-df-spinner');\n",
              "      quickchartButtonEl.classList.add('colab-df-quickchart-complete');\n",
              "    }\n",
              "    (() => {\n",
              "      let quickchartButtonEl =\n",
              "        document.querySelector('#df-ae9ad910-f230-4b31-817c-e7d1ebc8381e button');\n",
              "      quickchartButtonEl.style.display =\n",
              "        google.colab.kernel.accessAllowed ? 'block' : 'none';\n",
              "    })();\n",
              "  </script>\n",
              "</div>\n",
              "    </div>\n",
              "  </div>\n"
            ],
            "text/plain": [
              "                                   Open          High           Low  \\\n",
              "Datetime                                                              \n",
              "2023-10-16 13:35:00-03:00  28093.830078  28101.746094  28093.830078   \n",
              "2023-10-16 13:40:00-03:00  28144.013672  28144.013672  28094.859375   \n",
              "2023-10-16 13:45:00-03:00  28102.837891  28121.666016  28102.837891   \n",
              "2023-10-16 13:50:00-03:00  28121.666016  28134.105469  28116.107422   \n",
              "2023-10-16 13:55:00-03:00  28132.490234  28132.490234  28091.921875   \n",
              "...                                 ...           ...           ...   \n",
              "2023-10-23 13:05:00-03:00  30879.093750  30962.740234  30879.093750   \n",
              "2023-10-23 13:10:00-03:00  30965.488281  30976.443359  30930.960938   \n",
              "2023-10-23 13:15:00-03:00  30921.050781  30985.527344  30921.050781   \n",
              "2023-10-23 13:20:00-03:00  30989.253906  30997.236328  30910.515625   \n",
              "2023-10-23 13:25:00-03:00  30933.943359  30933.943359  30859.402344   \n",
              "\n",
              "                                  Close     Adj Close     Volume  \n",
              "Datetime                                                          \n",
              "2023-10-16 13:35:00-03:00  28101.746094  28101.746094  154509312  \n",
              "2023-10-16 13:40:00-03:00  28094.859375  28094.859375   39122944  \n",
              "2023-10-16 13:45:00-03:00  28121.666016  28121.666016   14596096  \n",
              "2023-10-16 13:50:00-03:00  28132.490234  28132.490234   25473024  \n",
              "2023-10-16 13:55:00-03:00  28097.859375  28097.859375   23310336  \n",
              "...                                 ...           ...        ...  \n",
              "2023-10-23 13:05:00-03:00  30962.740234  30962.740234   50841600  \n",
              "2023-10-23 13:10:00-03:00  30930.960938  30930.960938   93519872  \n",
              "2023-10-23 13:15:00-03:00  30985.527344  30985.527344   40785920  \n",
              "2023-10-23 13:20:00-03:00  30910.515625  30910.515625   73115648  \n",
              "2023-10-23 13:25:00-03:00  30895.933594  30895.933594   70453248  \n",
              "\n",
              "[1059 rows x 6 columns]"
            ]
          },
          "execution_count": 9,
          "metadata": {},
          "output_type": "execute_result"
        }
      ],
      "source": [
        "df_bitcoin_limpio.dropna(subset = ['Close'], inplace = True)\n",
        "df_bitcoin_limpio"
      ]
    },
    {
      "cell_type": "markdown",
      "metadata": {
        "id": "fzNOq6Fr2Mai"
      },
      "source": [
        "## Eliminamos las filas que tienen indice repetido"
      ]
    },
    {
      "cell_type": "code",
      "execution_count": null,
      "metadata": {
        "id": "GfmdWj0mxCst"
      },
      "outputs": [],
      "source": [
        "indices_inicos = df_bitcoin_limpio.index.drop_duplicates()\n",
        "df_bitcoin_limpio = df_bitcoin_limpio.reindex(indices_inicos)"
      ]
    },
    {
      "cell_type": "markdown",
      "metadata": {
        "id": "ahy0hxFi2UZk"
      },
      "source": [
        "## Limpieza de los outside en los valores de Close"
      ]
    },
    {
      "cell_type": "code",
      "execution_count": null,
      "metadata": {
        "colab": {
          "base_uri": "https://localhost:8080/",
          "height": 447
        },
        "id": "X6q4XnNC1vFU",
        "outputId": "88d235a8-4c1e-4b9f-9ffa-20b520b44ac6"
      },
      "outputs": [
        {
          "data": {
            "text/plain": [
              "<Axes: >"
            ]
          },
          "execution_count": 11,
          "metadata": {},
          "output_type": "execute_result"
        },
        {
          "data": {
            "image/png": "[encoded data removed]",
            "text/plain": [
              "<Figure size 640x480 with 1 Axes>"
            ]
          },
          "metadata": {},
          "output_type": "display_data"
        }
      ],
      "source": [
        "df_bitcoin_limpio.boxplot(['Close'])"
      ]
    },
    {
      "cell_type": "code",
      "execution_count": null,
      "metadata": {
        "colab": {
          "base_uri": "https://localhost:8080/",
          "height": 447
        },
        "id": "CYcztw3f0241",
        "outputId": "59a52488-9f63-4d07-faa5-56583776408f"
      },
      "outputs": [
        {
          "data": {
            "text/plain": [
              "<Axes: >"
            ]
          },
          "execution_count": 12,
          "metadata": {},
          "output_type": "execute_result"
        },
        {
          "data": {
            "image/png": "[encoded data removed]",
            "text/plain": [
              "<Figure size 640x480 with 1 Axes>"
            ]
          },
          "metadata": {},
          "output_type": "display_data"
        }
      ],
      "source": [
        "close = df_bitcoin_limpio['Close']\n",
        "Q1 = close.quantile(.25)\n",
        "Q3 = close.quantile(.75)\n",
        "seleccion = (close >= Q1) & (close <= Q3)\n",
        "df_bitcoin_limpio = df_bitcoin_limpio[seleccion]\n",
        "df_bitcoin_limpio.boxplot(['Close'])"
      ]
    },
    {
      "cell_type": "markdown",
      "metadata": {
        "id": "lrCBOMCS2e93"
      },
      "source": [
        "## Funcion Completa"
      ]
    },
    {
      "cell_type": "code",
      "execution_count": null,
      "metadata": {
        "id": "kYly_7ck2W0p"
      },
      "outputs": [],
      "source": [
        "\n",
        "def limpieza_datos():\n",
        "  global media_bitcoin,df_bitcoin\n",
        "  df_bitcoin_limpio = df_bitcoin.copy()\n",
        "  seleccion = df_bitcoin_limpio['Volume']>0\n",
        "  df_bitcoin_limpio = df_bitcoin_limpio[seleccion]\n",
        "  df_bitcoin_limpio.dropna(subset = ['Close'], inplace = True)\n",
        "  indices_inicos = df_bitcoin_limpio.index.drop_duplicates()\n",
        "  df_bitcoin_limpio = df_bitcoin_limpio.reindex(indices_inicos)\n",
        "  close = df_bitcoin_limpio['Close']\n",
        "  Q1 = close.quantile(.25)\n",
        "  Q3 = close.quantile(.75)\n",
        "  seleccion = (close >= Q1) & (close <= Q3)\n",
        "  df_bitcoin_limpio = df_bitcoin_limpio[seleccion]\n",
        "  media_bitcoin = df_bitcoin_limpio['Close'].mean()\n",
        "limpieza_datos()\n",
        "\n"
      ]
    },
    {
      "cell_type": "markdown",
      "metadata": {
        "id": "JQvmniG02pLm"
      },
      "source": [
        "# 4. Toma de Decision\n",
        "- Si el precio actual es mayor o igual a la media y la tendencia es baja--> vender\n",
        "- Si el precio actual es menor a la media y la tendencia es alta --> comprar\n",
        "- Otras posibilidades --> esperar"
      ]
    },
    {
      "cell_type": "code",
      "execution_count": null,
      "metadata": {
        "id": "YrEpIIGt3nRD"
      },
      "outputs": [],
      "source": [
        "def tomar_decision():\n",
        "  global algoritmo_decision, media_bitcoin\n",
        "  if precio_actual>=media_bitcoin and tendencia == 'baja':\n",
        "    algoritmo_decision = 'Vender'\n",
        "  elif precio_actual<media_bitcoin and tendencia == 'alta':\n",
        "    algoritmo_decision = 'Comprar'\n",
        "  else:\n",
        "    algoritmo_decision = 'Esperar'\n"
      ]
    },
    {
      "cell_type": "markdown",
      "metadata": {
        "id": "qa5hwURq2ugB"
      },
      "source": [
        "# 5. Visualizacion"
      ]
    },
    {
      "cell_type": "code",
      "execution_count": null,
      "metadata": {
        "colab": {
          "base_uri": "https://localhost:8080/",
          "height": 490
        },
        "id": "ZpkF-cNJ8scD",
        "outputId": "4dcb3b64-91c2-4467-f88a-c3c92c9e238e"
      },
      "outputs": [
        {
          "data": {
            "image/png": "[encoded data removed]",
            "text/plain": [
              "<Figure size 1600x500 with 1 Axes>"
            ]
          },
          "metadata": {},
          "output_type": "display_data"
        }
      ],
      "source": [
        "\n",
        "\n",
        "import matplotlib.pyplot as plt\n",
        "def visualizacion():\n",
        "    global algoritmo_decision\n",
        "    # Adiciona una nueva columna 'Promedio' al DataFrame original\n",
        "    df_bitcoin['Promedio'] = media_bitcoin\n",
        "\n",
        "    # Configura el tamaño del gráfico en una proporción de 16x5\n",
        "    plt.figure(figsize=(16, 5))\n",
        "\n",
        "    # Adiciona un título al gráfico\n",
        "    plt.title('Gráfico de Bitcoin y Promedio')\n",
        "    # Dibuja una línea en el gráfico con los datos del índice y la columna 'Close'\n",
        "    plt.plot(df_bitcoin.index, df_bitcoin['Close'], label='Bitcoin')\n",
        "\n",
        "    # Dibuja una línea en el gráfico con los datos del índice y la columna 'Promedio'\n",
        "    plt.plot(df_bitcoin.index, df_bitcoin['Promedio'], label='Promedio')\n",
        "    # Puedes ajustar las coordenadas x y y para la ubicación del mensaje\n",
        "     # Configura las coordenadas para la esquina superior derecha del gráfico\n",
        "    corner_x = df_bitcoin.index[-1]  # Última fecha en los datos\n",
        "    corner_y = max(df_bitcoin[['Close', 'Promedio']].max())  # Valor máximo entre 'Close' y 'Promedio'\n",
        "\n",
        "    # x_min = fecha_inicial\n",
        "    # x_max = fecha_final\n",
        "    # plt.xlim(x_min, x_max)\n",
        "\n",
        "    # Configura las coordenadas xy y el texto a mostrar\n",
        "    plt.annotate('Decisión del algoritmo -> ' + algoritmo_decision,\n",
        "                 xy=(corner_x, corner_y),  # Coordenadas en la esquina superior derecha\n",
        "                 xytext=(-0, 20),  # Ajusta la posición del texto\n",
        "                 textcoords='offset points',  # Configura el ajuste relativo a las coordenadas\n",
        "                 fontsize=12)\n",
        "\n",
        "    # Muestra en pantalla el gráfico configurado\n",
        "    plt.legend()  # Mostrar leyenda\n",
        "    plt.xlabel('Fecha')  # Etiqueta del eje x\n",
        "    plt.ylabel('Valor')  # Etiqueta del eje y\n",
        "    plt.grid(True)  # Mostrar cuadrícula\n",
        "    plt.show()\n",
        "\n",
        "# Llama a la función para visualizar el gráfico\n",
        "visualizacion()\n"
      ]
    },
    {
      "cell_type": "markdown",
      "metadata": {
        "id": "Lbj5cdU5P8KK"
      },
      "source": [
        "df"
      ]
    },
    {
      "cell_type": "markdown",
      "metadata": {
        "id": "dTxKWoSM24g3"
      },
      "source": [
        "# 6. Automatizacion"
      ]
    },
    {
      "cell_type": "code",
      "execution_count": null,
      "metadata": {
        "colab": {
          "background_save": true,
          "base_uri": "https://localhost:8080/"
        },
        "id": "ZcNjsiKV_Iva",
        "outputId": "f37a2bfd-6ae7-414c-dd33-e539642882e3"
      },
      "outputs": [
        {
          "name": "stdout",
          "output_type": "stream",
          "text": [
            "\r[*********************100%%**********************]  1 of 1 completed\n",
            "Fecha y hora 2023-10-23 18:28:30.755884-03:00\n",
            "Precio Actual Bitcoin->31532.9\n",
            "Tendencia->baja\n",
            "Valore Medio del Bitcoin->29382.87558520599\n",
            "Desicion->Vender\n"
          ]
        },
        {
          "data": {
            "image/png": "[encoded data removed]",
            "text/plain": [
              "<Figure size 1600x500 with 1 Axes>"
            ]
          },
          "metadata": {},
          "output_type": "display_data"
        }
      ],
      "source": [
        "from IPython.core.display import clear_output\n",
        "import time\n",
        "while(True):\n",
        "  clear_output()\n",
        "  importar_base_bitcoin()\n",
        "  extrer_tendencias()\n",
        "  limpieza_datos()\n",
        "  tomar_decision()\n",
        "  print(\"Fecha y hora \" + str(datetime.now(pytz.timezone('America/Argentina/Buenos_Aires'))))\n",
        "  print( \"Precio Actual Bitcoin->\"+str(precio_actual))\n",
        "  print(\"Tendencia->\"+tendencia)\n",
        "  print(\"Valor Medio del Bitcoin->\"+str(media_bitcoin))\n",
        "  print(\"Desicion->\"+algoritmo_decision)\n",
        "  visualizacion()\n",
        "  time.sleep(300)"
      ]
    },
    {
      "cell_type": "code",
      "execution_count": null,
      "metadata": {
        "id": "Fq8pYSKu_mig"
      },
      "outputs": [],
      "source": []
    }
  ],
  "metadata": {
    "colab": {
      "provenance": [],
      "authorship_tag": "ABX9TyPKIsXsOkHyx8BDlZG0yfTi",
      "include_colab_link": true
    },
    "kernelspec": {
      "display_name": "Python 3",
      "name": "python3"
    },
    "language_info": {
      "name": "python"
    }
  },
  "nbformat": 4,
  "nbformat_minor": 0
}